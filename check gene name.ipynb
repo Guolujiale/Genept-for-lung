{
 "cells": [
  {
   "cell_type": "code",
   "execution_count": 1,
   "id": "1969dddf-6e4f-489e-bca3-ef1cb8be9248",
   "metadata": {},
   "outputs": [
    {
     "name": "stdout",
     "output_type": "stream",
     "text": [
      "The format of the data in the pickle file is: <class 'dict'>\n"
     ]
    }
   ],
   "source": [
    "#check document type\n",
    "import pickle\n",
    "\n",
    "# 文件路径\n",
    "file_path = './data/GenePT_emebdding_v2/GenePT_gene_embedding_ada_text.pickle'\n",
    "\n",
    "# 打开并读取 pickle 文件\n",
    "with open(file_path, 'rb') as file:\n",
    "    data = pickle.load(file)\n",
    "\n",
    "# 打印文件中的数据类型\n",
    "print(f\"The format of the data in the pickle file is: {type(data)}\")\n",
    "\n",
    "# 如果需要查看文件的具体内容，可以打印出来（注意数据可能非常大）\n",
    "# print(data)\n"
   ]
  },
  {
   "cell_type": "code",
   "execution_count": 2,
   "id": "be443f3d-bd32-4932-87c5-4047ecf7d4c8",
   "metadata": {},
   "outputs": [
    {
     "name": "stdout",
     "output_type": "stream",
     "text": [
      "Columns in the CSV (from 3rd to second last):\n",
      "Index(['aadat', 'abca13', 'abcb11', 'acan', 'ace2', 'ackr3', 'actl6b', 'actn3',\n",
      "       'ager', 'aif1l',\n",
      "       ...\n",
      "       'uox', 'upk1a', 'upk1b', 'upk3a', 'upk3b', 'vsnl1', 'vsx2', 'vwf',\n",
      "       'wif1', 'wnt3'],\n",
      "      dtype='object', length=372)\n",
      "\n",
      "Columns that are missing from the dictionary keys:\n",
      "['calm4', 'calm5', 'ccl12', 'ccl9', 'clec4a3', 'cox8b', 'cstdc4', 'ctla2a', 'dbpht2', 'dcpp2', 'des', 'fam183b', 'fcnb', 'gm13889', 'gm94', 'hsd3b4', 'ifitm6', 'klra8', 'kng2', 'lce1m', 'mettl7a2', 'mrgpra2a', 'ms4a6b', 'ms4a6c', 'retnla', 'serpina3n', 'stfa2l1', 'try10', 'uox']\n",
      "\n",
      "Total number of gene names: 372\n",
      "Number of gene names missing in the dictionary: 29\n",
      "Cleaned data has been saved to: ./data/cleaned_countsphe1.csv\n"
     ]
    }
   ],
   "source": [
    "import pandas as pd\n",
    "import pickle\n",
    "\n",
    "# 1. 加载pickle文件，获取字典\n",
    "file_path = './data/GenePT_emebdding_v2/GenePT_gene_embedding_ada_text.pickle'\n",
    "with open(file_path, 'rb') as file:\n",
    "    data = pickle.load(file)\n",
    "\n",
    "# 提取字典中的所有键并转换为小写\n",
    "dict_keys = [key.lower() for key in data.keys()]\n",
    "\n",
    "# 2. 加载CSV文件的第3列到倒数第二列\n",
    "csv_file_path = './data/countsphe1.csv'\n",
    "df = pd.read_csv(csv_file_path)\n",
    "\n",
    "# 获取CSV文件第3列到倒数第二列的列名\n",
    "csv_column_names = df.columns[8:-3].str.lower()  # 从第3列开始到倒数第二列\n",
    "\n",
    "# 打印所有列名\n",
    "print(\"Columns in the CSV (from 3rd to second last):\")\n",
    "print(csv_column_names)\n",
    "\n",
    "# 3. 检查这些列名是否存在于字典的键中，并打印不存在的列名\n",
    "missing_columns = [col for col in csv_column_names if col not in dict_keys]\n",
    "\n",
    "if missing_columns:\n",
    "    print(\"\\nColumns that are missing from the dictionary keys:\")\n",
    "    print(missing_columns)\n",
    "else:\n",
    "    print(\"\\nAll CSV columns are found in the dictionary keys.\")\n",
    "\n",
    "# 4. 删除不匹配的列\n",
    "# 先获取需要保留的列\n",
    "columns_to_keep = [col for col in csv_column_names if col in dict_keys]\n",
    "\n",
    "# 删除那些不在字典中的列\n",
    "# 这里将所有列名转换为小写，以便进行比较\n",
    "df_cleaned = df.drop(columns=[col for col in df.columns[8:-3] if col.lower() not in columns_to_keep])\n",
    "\n",
    "# 5. 保存新的CSV文件\n",
    "output_file_path = './data/cleaned_countsphe1.csv'\n",
    "df_cleaned.to_csv(output_file_path, index=False)\n",
    "\n",
    "# 打印统计信息\n",
    "total_genes = len(csv_column_names)\n",
    "missing_genes = len(missing_columns)\n",
    "\n",
    "# 打印统计结果\n",
    "print(\"\\nTotal number of gene names:\", total_genes)\n",
    "print(\"Number of gene names missing in the dictionary:\", missing_genes)\n",
    "print(f\"Cleaned data has been saved to: {output_file_path}\")\n"
   ]
  },
  {
   "cell_type": "code",
   "execution_count": null,
   "id": "db428a36-9445-4636-bd2e-82d58c1b4345",
   "metadata": {},
   "outputs": [],
   "source": []
  }
 ],
 "metadata": {
  "kernelspec": {
   "display_name": "Python (genept)",
   "language": "python",
   "name": "genept"
  },
  "language_info": {
   "codemirror_mode": {
    "name": "ipython",
    "version": 3
   },
   "file_extension": ".py",
   "mimetype": "text/x-python",
   "name": "python",
   "nbconvert_exporter": "python",
   "pygments_lexer": "ipython3",
   "version": "3.11.11"
  }
 },
 "nbformat": 4,
 "nbformat_minor": 5
}
